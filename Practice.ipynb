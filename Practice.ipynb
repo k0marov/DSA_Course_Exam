{
 "cells": [
  {
   "cell_type": "markdown",
   "metadata": {},
   "source": [
    "# Список задач по дисциплине \"Основы алгоритмизации и программирования\" для групп К0409-22"
   ]
  }
 ],
 "metadata": {
  "language_info": {
   "name": "python"
  }
 },
 "nbformat": 4,
 "nbformat_minor": 2
}
