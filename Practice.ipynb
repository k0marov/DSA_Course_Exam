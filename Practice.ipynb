{
 "cells": [
  {
   "cell_type": "markdown",
   "metadata": {},
   "source": [
    "# Список задач по дисциплине \"Алгоритмы, программирование и структуры данных\" для групп К0709-22"
   ]
  },
  {
   "cell_type": "markdown",
   "metadata": {},
   "source": [
    "1. Даны два числа `a` и `b` в десятичной системе счисления и основание некоторой системы счисления `c`. Найдите сумму этих чисел в системе счисления `c`. Результат представить в виде списка."
   ]
  },
  {
   "cell_type": "code",
   "execution_count": null,
   "metadata": {},
   "outputs": [],
   "source": [
    "def sum(a, b, c):\n",
    "    res = [] \n",
    "    carry = 0 \n",
    "    while a or b:\n",
    "        d1 = a % c\n",
    "        d2 = b % c \n",
    "        a //= c\n",
    "        b //= c\n",
    "\n",
    "        s = d1+d2+carry\n",
    "        if s >= c:\n",
    "            carry = s // c\n",
    "            s = s % c\n",
    "        else:\n",
    "            carry = 0 \n",
    "        res.append(s)\n",
    "    if carry: res.append(carry) \n",
    "    return res[::-1] "
   ]
  },
  {
   "cell_type": "markdown",
   "metadata": {},
   "source": [
    "2. Даны два числа `a` и `b`, представленные в виде строк. Найдите произведение этих чисел и верните его в виде строки."
   ]
  },
  {
   "cell_type": "code",
   "execution_count": null,
   "metadata": {},
   "outputs": [],
   "source": [
    "def sum(a, b):\n",
    "    c = 10 \n",
    "    res = [] \n",
    "    if len(a) > len(b):\n",
    "        a, b = b, a \n",
    "    n = len(b)\n",
    "    a = [0]*(n-len(a)) + a\n",
    "\n",
    "    res = [0]*n\n",
    "    carry = 0 \n",
    "    for i in range(n-1, -1, -1):\n",
    "        s = a[i]+b[i]+carry\n",
    "        if s >= c:\n",
    "            carry = s // c\n",
    "            s = s % c\n",
    "        else:\n",
    "            carry = 0 \n",
    "        res[i] = s \n",
    "    if carry:\n",
    "        res = [carry]+res\n",
    "    return res\n",
    "\n",
    "def p(a, k):\n",
    "    c = 10\n",
    "    res = [0]*len(a)\n",
    "    carry = 0 \n",
    "    for i in range(len(a)-1, -1, -1):\n",
    "        elem = a[i]*k+carry\n",
    "        if elem >= c:\n",
    "            carry = elem // c \n",
    "            elem %= c  \n",
    "        res[i] = elem\n",
    "    if carry: \n",
    "        res = [carry]+res \n",
    "    return res\n",
    "\n",
    "def product(a, b):\n",
    "    a = list(map(int, a))\n",
    "    b = list(map(int, b))\n",
    "    if len(a) > len(b):\n",
    "        a, b = b, a\n",
    "    n = len(b)\n",
    "    a = [0]*(n-len(a)) + a\n",
    "    c = 10\n",
    "\n",
    "    res = [] \n",
    "    power = 0\n",
    "    for i in range(n-1, -1, -1):\n",
    "        res = sum(res, p(a, b[i]) + [0]*power)\n",
    "        power += 1\n",
    "    for first_dig in range(len(res)):\n",
    "        if res[first_dig] != 0:\n",
    "            break\n",
    "    return res[first_dig:]"
   ]
  },
  {
   "cell_type": "markdown",
   "metadata": {},
   "source": [
    "3. Реализуйте алгоритм быстрого возведения числа `a` в степень `b`. "
   ]
  },
  {
   "cell_type": "code",
   "execution_count": null,
   "metadata": {},
   "outputs": [],
   "source": [
    "def fast_power(a, n):\n",
    "    res = a\n",
    "    i = 1\n",
    "    while i < n:\n",
    "        if i*2 < n:\n",
    "            res *= res\n",
    "            i *= 2\n",
    "        else: \n",
    "            res *= a \n",
    "            i += 1\n",
    "    return res"
   ]
  },
  {
   "cell_type": "markdown",
   "metadata": {},
   "source": [
    "4. Даны два числа `a` и `b`. Найдите их наибольший общий делитель."
   ]
  },
  {
   "cell_type": "code",
   "execution_count": null,
   "metadata": {},
   "outputs": [],
   "source": [
    "def gcd(a, b): \n",
    "    if a == 0:\n",
    "        return b\n",
    "    return gcd(b%a, a)"
   ]
  },
  {
   "cell_type": "markdown",
   "metadata": {},
   "source": [
    "5. Даны два числа `a` и `b`. Найдите пару чисел `x` и `y`, являющуюся решением уравнения вида: $ax+by=НОД(a,b)$"
   ]
  },
  {
   "cell_type": "code",
   "execution_count": null,
   "metadata": {},
   "outputs": [],
   "source": [
    "# source: https://www.techiedelight.com/ru/extended-euclidean-algorithm-implementation/\n",
    "def extended_gcd(a, b):\n",
    "    if a == 0:\n",
    "        return b, 0, 1\n",
    "    else:\n",
    "        gcd, x, y = extended_gcd(b % a, a)\n",
    "        return gcd, y - (b // a) * x, x\n",
    " \n",
    " \n",
    "if __name__ == '__main__':\n",
    " \n",
    "    gcd, x, y = extended_gcd(30, 50)\n",
    "    print('The GCD is', gcd)\n",
    "    print(f'x = {x}, y = {y}')"
   ]
  },
  {
   "cell_type": "markdown",
   "metadata": {},
   "source": [
    "6. Проверить, является ли число `a` простым."
   ]
  },
  {
   "cell_type": "code",
   "execution_count": null,
   "metadata": {},
   "outputs": [],
   "source": [
    "def is_prime(a):\n",
    "    for d in range(2, int(a**0.5)+1):\n",
    "        if a % d == 0:\n",
    "            return False \n",
    "    return True"
   ]
  },
  {
   "cell_type": "markdown",
   "metadata": {},
   "source": [
    "7. Найти $k$-тое по счету простое число. Число $2$ считать простым числом с номером $1$."
   ]
  },
  {
   "cell_type": "code",
   "execution_count": null,
   "metadata": {},
   "outputs": [],
   "source": [
    "def nth_prime(n):\n",
    "    primes = []\n",
    "    d = 2\n",
    "    while len(primes) < n:\n",
    "        is_prime = True\n",
    "        square_d = d**0.5\n",
    "        for p in primes:\n",
    "            if p > square_d:\n",
    "                break\n",
    "            if d % p == 0: \n",
    "                is_prime = False\n",
    "                break \n",
    "        if is_prime:\n",
    "            primes.append(d)\n",
    "        d += 1 \n",
    "    return primes[-1] "
   ]
  },
  {
   "cell_type": "markdown",
   "metadata": {},
   "source": [
    "8. Найти количество простых чисел в диапазоне от $[0,n]$. "
   ]
  },
  {
   "cell_type": "code",
   "execution_count": null,
   "metadata": {},
   "outputs": [],
   "source": [
    "def erat(n):\n",
    "    e = [1]*(n+1)\n",
    "    e[0] = e[1] = 0\n",
    "    for d in range(2, len(e)):\n",
    "        if not e[d]:\n",
    "            continue\n",
    "        for d2 in range(d*2, len(e), d):\n",
    "            e[d2] = 0\n",
    "    return e\n",
    "\n",
    "def count_primes(upto):\n",
    "    return sum(erat(upto))"
   ]
  },
  {
   "cell_type": "markdown",
   "metadata": {},
   "source": [
    "9. Дан список целых чисел `arr`. Реализовать сортировку простыми обменами, в качестве результата вернуть количество перестановок выполненных в процессе сортировки."
   ]
  },
  {
   "cell_type": "code",
   "execution_count": null,
   "metadata": {},
   "outputs": [],
   "source": [
    "def swap_sort(arr):\n",
    "    n = len(arr)\n",
    "    swaps = 0\n",
    "    for i in range(n):\n",
    "        for j in range(i+1, n):\n",
    "            if arr[i] > arr[j]:\n",
    "                arr[i], arr[j] = arr[j], arr[i]\n",
    "                swaps += 1\n",
    "    return swaps"
   ]
  },
  {
   "cell_type": "markdown",
   "metadata": {},
   "source": [
    "10. Дан список целых чисел `arr`. Реализовать сортировку вставками (без использования бинарного поиска), в качестве результата вернуть количество перестановок выполненных в процессе сортировки."
   ]
  },
  {
   "cell_type": "code",
   "execution_count": null,
   "metadata": {},
   "outputs": [],
   "source": [
    "def insertion_sort(arr):\n",
    "    n = len(arr)\n",
    "    swaps = 0\n",
    "    for i in range(n):\n",
    "        k = i\n",
    "        while k > 0 and a[k-1] > a[k]:\n",
    "            a[k], a[k-1] = a[k-1], a[k]\n",
    "            swaps += 1\n",
    "            k -= 1\n",
    "    return swaps"
   ]
  },
  {
   "cell_type": "markdown",
   "metadata": {},
   "source": [
    "11. Дан сортированный список целых чисел `arr` и число `x`. Найти индекс, на котором будет расположено число `x` в списке, после его добавления в список в порядке сортировки."
   ]
  },
  {
   "cell_type": "code",
   "execution_count": null,
   "metadata": {},
   "outputs": [],
   "source": [
    "def sorted_place(arr, new):\n",
    "    i = len(arr)//2\n",
    "    while True:\n",
    "        if i < len(arr) and arr[i] < new:\n",
    "            if i == len(arr)-1: # edge case: new is the biggest element\n",
    "                return len(arr)-1\n",
    "            i += i // 2 + (i==1)\n",
    "        elif i and arr[i-1] > new:\n",
    "            if i == 1: # edge case: new is the smallest element\n",
    "                return 0\n",
    "            i -= i // 2 \n",
    "        else: \n",
    "            return i\n",
    "\n",
    "print(sorted_place(sorted([1, 2, 5, 8]), 3))\n",
    "print(sorted_place([1, 3, 4, 5, 6], 2))\n",
    "print(sorted_place([1, 2, 3], 100))\n",
    "print(sorted_place([3, 4, 5, 6], 1))"
   ]
  },
  {
   "cell_type": "markdown",
   "metadata": {},
   "source": [
    "12. Даны два сортированных списка `arr1` и `arr2`. Выполнить их слияние так, чтобы полученный список так же был сортирован."
   ]
  },
  {
   "cell_type": "code",
   "execution_count": null,
   "metadata": {},
   "outputs": [],
   "source": [
    "def merge(a, b):\n",
    "    merged = [] \n",
    "    a = a[::-1]\n",
    "    b = b[::-1] \n",
    "    while b:\n",
    "        while a and a[-1] < b[-1]:\n",
    "            merged.append(a.pop())\n",
    "        merged.append(b.pop())\n",
    "    merged.extend(a[::-1])\n",
    "    return merged"
   ]
  },
  {
   "cell_type": "markdown",
   "metadata": {},
   "source": [
    "14. Реализовать алгоритм сортировки слиянием с использованием галопирования."
   ]
  },
  {
   "cell_type": "code",
   "execution_count": null,
   "metadata": {},
   "outputs": [],
   "source": [
    "# source: https://vporoshok.me/post/2018/10/merge-sort/\n",
    "def galloping(AB, n, C): \n",
    "    C[:] = AB[:n]\n",
    "    # r — указатель на конец результата # j — место последней вставки\n",
    "    # m — длина остатка B\n",
    "    r, j, m = 0, n, len(AB) - n\n",
    "    for i in range(n):\n",
    "        # k — степень двойки\n",
    "        # l — указатель на 2^k-1 элемент k, l = 0, 0\n",
    "        while l < m and AB[j+l] < C[i]:\n",
    "            k += 1\n",
    "            l = 2**k - 1\n",
    "            if l >= m: l=m-1\n",
    "            while l >= 0 and AB[j+l] > C[i]: \n",
    "                l -= 1\n",
    "        l += 1\n",
    "        AB[r:r+l], AB[r+l] = AB[j:j+l], C[i] \n",
    "        r, j, m = r + l + 1, j + l, m - l\n"
   ]
  },
  {
   "cell_type": "markdown",
   "metadata": {},
   "source": [
    "13. Реализовать алгоритм быстрой сортировки."
   ]
  },
  {
   "cell_type": "code",
   "execution_count": null,
   "metadata": {},
   "outputs": [],
   "source": [
    "# source: https://github.com/zernovga/Algorithms_and_Data_Structures_Course/blob/main/Lections/Lection%203.pdf\n",
    "\n",
    "def partition(array, low, high):\n",
    "    # choose the rightmost element as pivot\n",
    "    pivot = array[high]\n",
    " \n",
    "    # pointer for greater element\n",
    "    i = low - 1\n",
    " \n",
    "    # traverse through all elements\n",
    "    # compare each element with pivot\n",
    "    for j in range(low, high):\n",
    "        if array[j] <= pivot:\n",
    " \n",
    "            # If element smaller than pivot is found\n",
    "            # swap it with the greater element pointed by i\n",
    "            i = i + 1\n",
    " \n",
    "            # Swapping element at i with element at j\n",
    "            (array[i], array[j]) = (array[j], array[i])\n",
    " \n",
    "    # Swap the pivot element with the greater element specified by i\n",
    "    (array[i + 1], array[high]) = (array[high], array[i + 1])\n",
    " \n",
    "    # Return the position from where partition is done\n",
    "    return i + 1\n",
    " \n",
    "def quicksort(array, low, high):\n",
    "    if low < high:\n",
    " \n",
    "        # Find pivot element such that\n",
    "        # element smaller than pivot are on the left\n",
    "        # element greater than pivot are on the right\n",
    "        pi = partition(array, low, high)\n",
    " \n",
    "        # Recursive call on the left of pivot\n",
    "        quicksort(array, low, pi - 1)\n",
    " \n",
    "        # Recursive call on the right of pivot\n",
    "        quicksort(array, pi + 1, high)\n",
    "\n",
    "def sort(arr):\n",
    "    return quicksort(arr, 0, len(arr)-1)"
   ]
  },
  {
   "cell_type": "markdown",
   "metadata": {},
   "source": [
    "14. На вершине лесенки, содержащей N ступенек, находится мячик, который начинает прыгать по ним вниз, к основанию. Мячик может прыгнуть на следующую ступеньку, на ступеньку через одну или через 2. (То есть, если мячик лежит на 8-ой ступеньке, то он может переместиться на 5-ую, 6-ую или 7-ую.) Определить число всевозможных \"маршрутов\" мячика с вершины на землю."
   ]
  },
  {
   "cell_type": "code",
   "execution_count": null,
   "metadata": {},
   "outputs": [],
   "source": [
    "def routes_to_start(N):\n",
    "    N += 1\n",
    "    dp = [0]*N\n",
    "    dp[-1] = 1 \n",
    "\n",
    "    for step in range(N-2, -1, -1):\n",
    "        dp[step] = dp[step+1]\n",
    "        if step+2 < N:\n",
    "            dp[step] += dp[step+2]\n",
    "        if step+3 < N:\n",
    "            dp[step] += dp[step+3]\n",
    "    return dp[0]\n",
    "\n",
    "N = 5\n",
    "print(routes_to_start(N))"
   ]
  },
  {
   "cell_type": "markdown",
   "metadata": {},
   "source": [
    "15. Вычислите n-й член последовательности, заданной формулами:\n",
    "\n",
    "$$\n",
    "a_{2n} = a_n ­+ a_{n-1}, \\newline\n",
    "a_{2n+1} = a_n – a_{n-1}, \\newline\n",
    "a_0 = a_1 = 1.\n",
    "$$"
   ]
  },
  {
   "cell_type": "code",
   "execution_count": null,
   "metadata": {},
   "outputs": [],
   "source": [
    "def a(n):\n",
    "    n += 1 \n",
    "    dp = [0]*n \n",
    "    dp[0] = dp[1] = 1 \n",
    "    for i in range(n): \n",
    "        k = i // 2\n",
    "        if i % 2: \n",
    "            dp[i] = dp[k] - dp[k-1]\n",
    "        else: \n",
    "            dp[i] = dp[k] + dp[k-1]\n",
    "\n",
    "    return dp[n-1]\n",
    "\n",
    "\n",
    "n = 5\n",
    "print(a(n))"
   ]
  },
  {
   "cell_type": "markdown",
   "metadata": {},
   "source": [
    "16. Даны две последовательности, требуется найти длину их наибольшей общей подпоследовательности."
   ]
  },
  {
   "cell_type": "code",
   "execution_count": 72,
   "metadata": {},
   "outputs": [
    {
     "name": "stdout",
     "output_type": "stream",
     "text": [
      "[[0, 0, 0, 0, 0, 0, 0, 0, 0],\n",
      " [0, 0, 0, 0, 1, 1, 1, 1, 1],\n",
      " [0, 0, 1, 1, 1, 1, 1, 2, 2],\n",
      " [0, 1, 1, 2, 2, 2, 2, 2, 3],\n",
      " [0, 1, 1, 2, 2, 2, 2, 2, 3],\n",
      " [0, 1, 1, 2, 2, 3, 3, 3, 3],\n",
      " [0, 1, 1, 2, 2, 3, 4, 4, 4],\n",
      " [0, 1, 1, 2, 2, 3, 4, 4, 5],\n",
      " [0, 1, 1, 2, 3, 3, 4, 4, 5],\n",
      " [0, 1, 2, 2, 3, 3, 4, 5, 5],\n",
      " [0, 1, 2, 3, 3, 4, 4, 5, 6]]\n",
      "6\n"
     ]
    }
   ],
   "source": [
    "from pprint import pprint\n",
    "def lcs_len(a, b):\n",
    "    n = len(a) \n",
    "    m = len(b)\n",
    "    dp = [[0 for _ in range(m)] for _ in range(n)]\n",
    "    for i in range(1, n):\n",
    "        for j in range(1, m):\n",
    "            if a[i] == b[j]:\n",
    "                dp[i][j] = dp[i-1][j-1] + 1\n",
    "            else:\n",
    "                dp[i][j] = max(dp[i-1][j], dp[i][j-1])\n",
    "    pprint(dp)\n",
    "    return dp[n-1][m-1]\n",
    "\n",
    "print(lcs_len('abracadabra', 'carabadra')) "
   ]
  },
  {
   "cell_type": "markdown",
   "metadata": {},
   "source": [
    "17. Дано `N` золотых слитков массой $m_1, …, m_N$. Ими наполняют рюкзак, который выдерживает вес не более `M`. Можно ли набрать вес в точности `M`?"
   ]
  },
  {
   "cell_type": "code",
   "execution_count": 73,
   "metadata": {},
   "outputs": [],
   "source": [
    "def can_get_weight(arr, m): # ejudge: https://informatics.msk.ru/mod/statements/view.php?id=813&chapterid=1120#1\n",
    "    can_get = [True] + [0]*m\n",
    "    for new in arr:\n",
    "        can_get = [can_get[weight] or weight - new >= 0 and can_get[weight-new] for weight in range(m+1)]\n",
    "    return can_get[m]\n",
    "# n, m = map(int, input().split()) \n",
    "# arr = list(map(int, input().split())) \n",
    "# print('YES' if can_get_weight(arr, m) else 'NO')"
   ]
  },
  {
   "cell_type": "markdown",
   "metadata": {},
   "source": [
    "18. Определите расстояние Левенштейна для двух данных строк `s1` и `s2`."
   ]
  },
  {
   "cell_type": "markdown",
   "metadata": {},
   "source": [
    "19. Даны два упорядоченных по невозрастанию односвязных списка. Объедините их в новый упорядоченный по невозрастанию односвязный список."
   ]
  },
  {
   "cell_type": "markdown",
   "metadata": {},
   "source": [
    "20. Дан односвязный список. Определить содержит ли он цикл. Список может содержать петли."
   ]
  },
  {
   "cell_type": "markdown",
   "metadata": {},
   "source": [
    "21. Дана строка `S` состоящая из открывающихся и закрывающихся скобок '(' и ')'. Найти длину наибольшей правильной последовательности скобок.\n",
    "\n",
    "    Последовательность скобок верна если:\n",
    "\n",
    "    * Для каждой открытой скобки есть закрытая\n",
    "    * Открытые скобки должны закрываться в соответствующем порядке."
   ]
  },
  {
   "cell_type": "markdown",
   "metadata": {},
   "source": [
    "22. Дан список цифр (значения от 0 до 9), найти минимальную возможную сумму двух чисел, составленных из цифр в списке. Все цифры должны быть использованы. \n",
    "\n",
    "    Любое сочетание цифр может быть использовано для составления чисел. Ведущие нули разрешены.\n",
    "\n",
    "    Если составить 2 числа невозможно (например, n==0), тогда \"сумма\" - это значение единственно возможного числа."
   ]
  },
  {
   "cell_type": "markdown",
   "metadata": {},
   "source": [
    "23. Реализовать алгоритм пирамидальной сортировки. "
   ]
  },
  {
   "cell_type": "markdown",
   "metadata": {},
   "source": [
    "24. Дана строка `S` с повторяющимися буквами. Переставить буквы таким образом, чтобы одинаковые буквы не стояли рядом.\n",
    "    \n",
    "    *Примечание:* строка содержит только строчные латинские буквы и может иметь множество решений. Верните любое из них."
   ]
  },
  {
   "cell_type": "markdown",
   "metadata": {},
   "source": [
    "25. Дан невзвешенный/взвешенный неориентированный/ориентированный граф, содержащий `N` вершин и `M` ребер, представленный множеством ребер/матрицей смежности/списком смежности/матрицей инцидентности. Составить список ребер/матрицу смежности/список смежности/матрицу инцидентности данного графа."
   ]
  },
  {
   "cell_type": "markdown",
   "metadata": {},
   "source": [
    "26. Дано `N` городов и известны расстояния между ними. Не все города связаны друг с другом дорогой. Найти все возможные маршруты из города А в город В (ни в один город не заходить дважды). Определить самый длинный и самый короткий маршрут."
   ]
  },
  {
   "cell_type": "markdown",
   "metadata": {},
   "source": [
    "27. Дан неориентированный невзвешенный граф. Необходимо посчитать количество его компонент связности и вернуть их в виде двумерного списка, количество строк которого соответствует количеству компонент, а в строках содержится множество вершин каждой компоненты."
   ]
  },
  {
   "cell_type": "markdown",
   "metadata": {},
   "source": [
    "28. Дан ориентированный невзвешенный граф. Определить является ли данный граф ациклическим."
   ]
  },
  {
   "cell_type": "markdown",
   "metadata": {},
   "source": [
    "29. Даны `N` процессов. Каждый процесс может быть запущен сразу, а может быть только после выполнения некоторого количества предыдущих процессов. Список зависимостей дан в списке `depend`. `depend[i]` - список процессов, от которых зависит процесс `i`. Найти порядок, в котором необходимо выполнять процессы, чтобы зависимый процесс начинался после выполнения предыдущих. Если таких порядков несколько, верните любой. Гарантируется, что существует хотя бы один процесс, который не имеет зависимостей."
   ]
  },
  {
   "cell_type": "markdown",
   "metadata": {},
   "source": [
    "30. Дана система двусторонних дорог. N-периферией называется множество городов, расстояние от которых до выделенного города (столицы) больше N. Для данного N определите N-периферию."
   ]
  },
  {
   "cell_type": "markdown",
   "metadata": {},
   "source": [
    "31. Система двусторонних дорог такова, что для любой пары городов можно указать соединяющий их путь. Найдите такой город, сумма расстояний от которого до остальных городов минимальна."
   ]
  },
  {
   "cell_type": "markdown",
   "metadata": {},
   "source": [
    "32. За проезд по каждой дороге взымается некоторая пошлина. Найдите путь из города А в город B с минимальной величиной S+P, где S - сумма длин дорог пути, а P - сумма пошлин проезжаемых дорог."
   ]
  },
  {
   "cell_type": "markdown",
   "metadata": {},
   "source": [
    "33. Дан взвешенный ориентированный граф с `n` узлами и `m` ребрами. Узлы пронумерованы от `0` до `n-1`, необходимо проверить, содержит ли граф цикл отрицательного веса.\n",
    "\n",
    "    *Примечание:* `edges[i]` состоит из вершин `u`, `v` и веса."
   ]
  },
  {
   "cell_type": "markdown",
   "metadata": {},
   "source": [
    "34. Найти минимальное покрывающее дерево для заданного графа. Вывести список его ребер и суммарный вес."
   ]
  },
  {
   "cell_type": "markdown",
   "metadata": {},
   "source": [
    "35. В неориентированный взвешенный граф добавляют ребра. Напишите программу, которая, после добавления ребер, находит сумму весов ребер в компоненте связности.\n",
    "\n",
    "    На вход подаются два числа `n` и `m` - количество вершин в графе и количество производимых добавлений и запросов. Далее следует список `add` из m строк. Каждая строка состоит из трех чисел `x, y, w`. Это означает, что в граф добавляется ребро из вершины x в вершину y веса w. Кратные ребра допустимы. И число `A` - вершина, для компоненты связности которой необходимо найти суммарный вес ребер."
   ]
  },
  {
   "cell_type": "markdown",
   "metadata": {},
   "source": [
    "36. Дан граф представляющий собой транспортную сеть с N вершина пронумерованными 1 до N и M ребрами. Найти максимальный поток из вершины 1 до вершины N."
   ]
  },
  {
   "cell_type": "markdown",
   "metadata": {},
   "source": [
    "37. Дано бинарное дерево. Выполнить прямой/центрированный/обратный/уровневый обход дерева."
   ]
  },
  {
   "cell_type": "markdown",
   "metadata": {},
   "source": [
    "38. Дано бинарное дерево. Проверить является ли данное дерево сбалансированным."
   ]
  },
  {
   "cell_type": "markdown",
   "metadata": {},
   "source": [
    "39. Дано бинарное дерево. Проверить является ли данное дерево бинарным деревом поиска."
   ]
  },
  {
   "cell_type": "markdown",
   "metadata": {},
   "source": [
    "40. Дано бинарное дерево. Найти высоту дерева."
   ]
  },
  {
   "cell_type": "markdown",
   "metadata": {},
   "source": [
    "41. Дано бинарное дерево. Найти ширину дерева."
   ]
  },
  {
   "cell_type": "markdown",
   "metadata": {},
   "source": [
    "42. Дано бинарное дерево поиска. Реализовать функцию поиска/вставки/удаления узла."
   ]
  },
  {
   "cell_type": "markdown",
   "metadata": {},
   "source": [
    "43. Дано бинарное дерево. Выполнить прямой/центрированный/обратный обход дерева не используя рекурсию."
   ]
  },
  {
   "cell_type": "markdown",
   "metadata": {},
   "source": [
    "44. Дано бинарное дерево поиска. Найти все тупиковые узлы. Под тупиковым узлом понимается узел, добавление потомков к которому невозможно."
   ]
  },
  {
   "cell_type": "markdown",
   "metadata": {},
   "source": [
    "45. Дан корень бинарного дерева. Необходимо преобразовать дерево в односвязный список.\n",
    "    Список должен использовать тот же класс `Node`, правый указатель должен ссылаться на следующий элемент в списке, левый всегда `None`.\n",
    "    Список должен иметь тот же порядок, что и прямой обход бинарного дерева."
   ]
  },
  {
   "cell_type": "markdown",
   "metadata": {},
   "source": [
    "46. Дано представление полного бинарного дерева в виде списка. Необходимо построить бинарное дерево."
   ]
  },
  {
   "cell_type": "markdown",
   "metadata": {},
   "source": [
    "47. Дано бинарное дерево поиска с целочисленными ключами. Найти преемника и предшественника данного ключа `key`. Если какого-то значения не существует, верните вместо него `None`.\n",
    "\n",
    "    *Примечание:* преемник и предшественник - ближайшие значения после и до указанного ключа."
   ]
  },
  {
   "cell_type": "markdown",
   "metadata": {},
   "source": [
    "48. Найти Z-функцию для строки."
   ]
  },
  {
   "cell_type": "markdown",
   "metadata": {},
   "source": [
    "49. Найти префикс-функцию для строки."
   ]
  },
  {
   "cell_type": "markdown",
   "metadata": {},
   "source": [
    "50. Реализовать полиномиальную хеш-функцию для строк."
   ]
  },
  {
   "cell_type": "markdown",
   "metadata": {},
   "source": [
    "51. Найти и вернуть все индексы начала вхождения строки `pat` в строку `text`."
   ]
  },
  {
   "cell_type": "markdown",
   "metadata": {},
   "source": [
    "52. Реализовать сортировку списка строк на основе хеширования."
   ]
  }
 ],
 "metadata": {
  "kernelspec": {
   "display_name": "Python 3",
   "language": "python",
   "name": "python3"
  },
  "language_info": {
   "codemirror_mode": {
    "name": "ipython",
    "version": 3
   },
   "file_extension": ".py",
   "mimetype": "text/x-python",
   "name": "python",
   "nbconvert_exporter": "python",
   "pygments_lexer": "ipython3",
   "version": "3.10.13"
  }
 },
 "nbformat": 4,
 "nbformat_minor": 2
}
